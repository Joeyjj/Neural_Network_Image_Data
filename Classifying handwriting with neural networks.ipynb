{
 "cells": [
  {
   "cell_type": "markdown",
   "metadata": {},
   "source": [
    "__Image classification using Neural Networks via the scikit-learn [MLPClassifier](https://scikit-learn.org/stable/modules/generated/sklearn.neural_network.MLPClassifier.html?highlight=mlpclassifier#sklearn.neural_network.MLPClassifier).__ \n",
    "\n",
    "Image classification, especially for handwritten text, is a difficult task. It is for this reason that traditional machine learning models usually struggle to match the human benchmark. However because Deep Neural Networks have the ability to learn hierarchical representations they are often as good as, or sometimes even better than, humans at classifying images.\n",
    "\n",
    "The data set used is from the scikit-learn _datasets_ module. The _load_digits()_ function within this module returns a copy of the handwritten digits from [UCI](http://archive.ics.uci.edu/ml/datasets/Optical+Recognition+of+Handwritten+Digits). The dataset includes pixel data for each image and an image labeling each digit from 0 to 9. \n",
    "\n",
    "Each image can be loaded into a single row in a DataFrame. Each column in this DataFrame represents the grayscale value of 1 pixel and, because each image is 8x8 pixels in size, each row in the DataFrame will have 64 columns. \n",
    "\n",
    "We will build a Neural Network model and classify each image in the data set, then compare the derived classification to the known image label to test the accuracy of the model. We will attempt the same task using other traditional machine learning models and compare the results. \n",
    "\n",
    "The MLPClassifier and the [KNeighborsClassifier](https://scikit-learn.org/stable/modules/generated/sklearn.neighbors.KNeighborsClassifier.html?highlight=kneighborsclassifier#sklearn.neighbors.KNeighborsClassifier) models both produce very accurate (+95%) results. However the MLPClassifier is almost an order of magnitude faster at predicting results than the KNeighborsClassifier. \n",
    "\n",
    "# Data set inspection\n",
    "\n",
    "Use _load_digits()_ to load the handwritten digits into a DataFrame and plot some of the 8x8 pixel images."
   ]
  },
  {
   "cell_type": "code",
   "execution_count": 1,
   "metadata": {},
   "outputs": [
    {
     "data": {
      "text/plain": [
       "dict_keys(['data', 'target', 'target_names', 'images', 'DESCR'])"
      ]
     },
     "execution_count": 1,
     "metadata": {},
     "output_type": "execute_result"
    }
   ],
   "source": [
    "from sklearn.datasets import load_digits\n",
    "import pandas as pd\n",
    "import numpy as np\n",
    "import matplotlib.pyplot as plt\n",
    "import seaborn as sns\n",
    "%matplotlib inline\n",
    "\n",
    "# load the digits\n",
    "digits_data = load_digits()\n",
    "digits_data.keys()"
   ]
  },
  {
   "cell_type": "code",
   "execution_count": 2,
   "metadata": {},
   "outputs": [
    {
     "data": {
      "text/html": [
       "<div>\n",
       "<style scoped>\n",
       "    .dataframe tbody tr th:only-of-type {\n",
       "        vertical-align: middle;\n",
       "    }\n",
       "\n",
       "    .dataframe tbody tr th {\n",
       "        vertical-align: top;\n",
       "    }\n",
       "\n",
       "    .dataframe thead th {\n",
       "        text-align: right;\n",
       "    }\n",
       "</style>\n",
       "<table border=\"1\" class=\"dataframe\">\n",
       "  <thead>\n",
       "    <tr style=\"text-align: right;\">\n",
       "      <th></th>\n",
       "      <th>0</th>\n",
       "      <th>1</th>\n",
       "      <th>2</th>\n",
       "      <th>3</th>\n",
       "      <th>4</th>\n",
       "      <th>5</th>\n",
       "      <th>6</th>\n",
       "      <th>7</th>\n",
       "      <th>8</th>\n",
       "      <th>9</th>\n",
       "      <th>...</th>\n",
       "      <th>54</th>\n",
       "      <th>55</th>\n",
       "      <th>56</th>\n",
       "      <th>57</th>\n",
       "      <th>58</th>\n",
       "      <th>59</th>\n",
       "      <th>60</th>\n",
       "      <th>61</th>\n",
       "      <th>62</th>\n",
       "      <th>63</th>\n",
       "    </tr>\n",
       "  </thead>\n",
       "  <tbody>\n",
       "    <tr>\n",
       "      <td>0</td>\n",
       "      <td>0.0</td>\n",
       "      <td>0.0</td>\n",
       "      <td>5.0</td>\n",
       "      <td>13.0</td>\n",
       "      <td>9.0</td>\n",
       "      <td>1.0</td>\n",
       "      <td>0.0</td>\n",
       "      <td>0.0</td>\n",
       "      <td>0.0</td>\n",
       "      <td>0.0</td>\n",
       "      <td>...</td>\n",
       "      <td>0.0</td>\n",
       "      <td>0.0</td>\n",
       "      <td>0.0</td>\n",
       "      <td>0.0</td>\n",
       "      <td>6.0</td>\n",
       "      <td>13.0</td>\n",
       "      <td>10.0</td>\n",
       "      <td>0.0</td>\n",
       "      <td>0.0</td>\n",
       "      <td>0.0</td>\n",
       "    </tr>\n",
       "  </tbody>\n",
       "</table>\n",
       "<p>1 rows × 64 columns</p>\n",
       "</div>"
      ],
      "text/plain": [
       "    0    1    2     3    4    5    6    7    8    9   ...   54   55   56   57  \\\n",
       "0  0.0  0.0  5.0  13.0  9.0  1.0  0.0  0.0  0.0  0.0  ...  0.0  0.0  0.0  0.0   \n",
       "\n",
       "    58    59    60   61   62   63  \n",
       "0  6.0  13.0  10.0  0.0  0.0  0.0  \n",
       "\n",
       "[1 rows x 64 columns]"
      ]
     },
     "execution_count": 2,
     "metadata": {},
     "output_type": "execute_result"
    }
   ],
   "source": [
    "labels = pd.Series(digits_data['target']) # the label of each image/digit, from 0 to 9. \n",
    "data = pd.DataFrame(digits_data['data'])  # the pixel values for each image/row, 64 columns\n",
    "data.head(1)"
   ]
  },
  {
   "cell_type": "code",
   "execution_count": 3,
   "metadata": {},
   "outputs": [
    {
     "data": {
      "text/plain": [
       "(1797, 64)"
      ]
     },
     "execution_count": 3,
     "metadata": {},
     "output_type": "execute_result"
    }
   ],
   "source": [
    "data.shape"
   ]
  },
  {
   "cell_type": "code",
   "execution_count": 4,
   "metadata": {},
   "outputs": [
    {
     "data": {
      "image/png": "[encoded data removed]",
      "text/plain": [
       "<Figure size 1080x576 with 10 Axes>"
      ]
     },
     "metadata": {
      "needs_background": "light"
     },
     "output_type": "display_data"
    }
   ],
   "source": [
    "def plot_image(row,subplot):\n",
    "    '''Extract image data, convert to 8x8 image and plot/label'''\n",
    "    image = data.iloc[row]\n",
    "    label = labels.iloc[row]\n",
    "    \n",
    "    np_image = image.values\n",
    "    np_image = np_image.reshape(8,8) # images are 8x8 pixels\n",
    "\n",
    "    subplot.set_title(label)\n",
    "    subplot.imshow(np_image, cmap='gray_r') # plot as grayscale \n",
    "    \n",
    "# loop over the first 10 rows and plot the images\n",
    "fig, axs = plt.subplots(2,5, figsize=(15, 8))\n",
    "axs = axs.ravel() \n",
    "for i in range(0,10,1):\n",
    "    plot_image(i, axs[i])"
   ]
  },
  {
   "cell_type": "markdown",
   "metadata": {},
   "source": [
    "A downsampled 8x8 pixel image certainly does not produce a clear picture. Speaking from the perspective of one human, scoring 10/10 would have been a difficult task; the 3 & 5 look very similar as do the 2 & 6. \n",
    "\n",
    "# Training and Testing ML models\n",
    "\n",
    "We will use a number of scikit-learn ML models which all use the same flow; 1. fit/train, 2. predict, 3. test, 4. repeat, 5. Plot/compare. The first step is to therefore create some generic functions to handle these tasks."
   ]
  },
  {
   "cell_type": "code",
   "execution_count": 5,
   "metadata": {},
   "outputs": [],
   "source": [
    "from sklearn.neighbors import KNeighborsClassifier \n",
    "from sklearn.model_selection import KFold\n",
    "\n",
    "def train(model, features, labels):    \n",
    "    '''Fit/train a sklearn model'''\n",
    "    model.fit(features, labels)\n",
    "    return model\n",
    "\n",
    "def test(model, features, labels):\n",
    "    '''Pass a previously fitted/trained model, predict results \n",
    "    and perform a simple % accuracy test'''\n",
    "    # predict\n",
    "    predictions = model.predict(features)\n",
    "    # score\n",
    "    accuracy = sum(predictions == labels)/labels.shape[0]  \n",
    "    return accuracy\n",
    "\n",
    "def cross_validate(model, n_splits=4):\n",
    "    '''Produce an average model accuracy using KFold.\n",
    "    Test both the train and test features to assess overfit.'''          \n",
    "    test_accuracies = []    \n",
    "    kf = KFold(n_splits = n_splits, random_state=2)\n",
    "    # loop over the n_splits \n",
    "    for train_index, test_index in kf.split(data):\n",
    "        train_features, test_features = data.loc[train_index], data.loc[test_index]\n",
    "        train_labels, test_labels = labels.loc[train_index], labels.loc[test_index]\n",
    "        # train the model\n",
    "        model = train(model, train_features, train_labels)\n",
    "        # test the model, with the test labels\n",
    "        test_accuracy  = test(model, test_features, test_labels)        \n",
    "        # collect result\n",
    "        test_accuracies.append(test_accuracy)        \n",
    "    # return the average for each\n",
    "    return np.mean(test_accuracies)\n",
    "\n",
    "def fit_test_all(model, model_kwargs_list=[],title_suffix='',random_state=False,silence=False):\n",
    "    '''Loop over a set of varying Key words used to fit a model\n",
    "    then plot kwargs vs the accuracy of the model'''\n",
    "    \n",
    "    test_scores = []    \n",
    "    # loop over kewords\n",
    "    for model_kwargs in model_kwargs_list:  \n",
    "        # build a model using current kwargs                \n",
    "        if random_state:\n",
    "            model_kwargs['random_state'] = random_state        \n",
    "        ML = model(**model_kwargs)\n",
    "        # get current results\n",
    "        test_score = cross_validate(ML)\n",
    "        if not silence:\n",
    "            model_kwargs.pop('random_state', None)\n",
    "            print('Result: {:.4f} from kwargs:{}'.format(test_score, model_kwargs))\n",
    "        # collect current results\n",
    "        test_scores.append(test_score)          \n",
    "\n",
    "    print('Best Result: {:.4f}'.format(max(test_scores)))\n",
    "    return test_scores \n",
    "\n",
    "def plot_scores(kwargs,knn_scores,kwarg_label,title):\n",
    "    '''Plot scores vs varying kwargs'''\n",
    "    plt.plot(kwargs,knn_scores)    \n",
    "    plt.title(title)\n",
    "    plt.xlabel(kwarg_label)\n",
    "    plt.ylabel('Ratio of correct labels')\n",
    "    plt.show()"
   ]
  },
  {
   "cell_type": "markdown",
   "metadata": {},
   "source": [
    "Neural Networks are known to produce good results when classifying images. First we will fit other scikit-learn models to gauage a benckmark. \n",
    "\n",
    "## The KNeighborsClassifier \n",
    "Strictly speaking this is an algorithm, not a model, but it should be expected to perform well if we can expect to have a large enough sample of distinct images - essentially we will find the nearest match to each known image, rather than interpolating a relationship from a set of average images. "
   ]
  },
  {
   "cell_type": "code",
   "execution_count": 6,
   "metadata": {},
   "outputs": [
    {
     "name": "stdout",
     "output_type": "stream",
     "text": [
      "Result: 0.9677 from kwargs:{'n_neighbors': 1}\n",
      "Result: 0.9616 from kwargs:{'n_neighbors': 2}\n",
      "Result: 0.9627 from kwargs:{'n_neighbors': 3}\n",
      "Result: 0.9649 from kwargs:{'n_neighbors': 4}\n",
      "Result: 0.9622 from kwargs:{'n_neighbors': 5}\n",
      "Result: 0.9588 from kwargs:{'n_neighbors': 6}\n",
      "Result: 0.9572 from kwargs:{'n_neighbors': 7}\n",
      "Result: 0.9572 from kwargs:{'n_neighbors': 8}\n",
      "Result: 0.9544 from kwargs:{'n_neighbors': 9}\n",
      "Result: 0.9527 from kwargs:{'n_neighbors': 10}\n",
      "Best Result: 0.9677\n"
     ]
    },
    {
     "data": {
      "image/png": "[encoded data removed]",
      "text/plain": [
       "<Figure size 432x288 with 1 Axes>"
      ]
     },
     "metadata": {
      "needs_background": "light"
     },
     "output_type": "display_data"
    }
   ],
   "source": [
    "kwargs = list(range(1,11,1))\n",
    "kwarg_label  = 'n_neighbors'\n",
    "\n",
    "knn_scores = fit_test_all(KNeighborsClassifier,                           \n",
    "                          model_kwargs_list= [{kwarg_label:kwarg} for kwarg in kwargs])\n",
    "\n",
    "# plot all results\n",
    "plot_scores(kwargs,knn_scores,kwarg_label,'KNeighborsClassifier')"
   ]
  },
  {
   "cell_type": "markdown",
   "metadata": {},
   "source": [
    "## The LogisticRegression \n",
    "LogisticRegression assigns probabilities describing the possible outcomes of a single trial, modeled using a logistic function. This model is well suited for binary data but should extend well to the classification with a choice of 10 image labels. "
   ]
  },
  {
   "cell_type": "code",
   "execution_count": 7,
   "metadata": {},
   "outputs": [
    {
     "name": "stdout",
     "output_type": "stream",
     "text": [
      "Result: 0.9271 from kwargs:{'solver': 'newton-cg'}\n",
      "Result: 0.9243 from kwargs:{'solver': 'lbfgs'}\n",
      "Result: 0.9282 from kwargs:{'solver': 'liblinear'}\n",
      "Best Result: 0.9282\n"
     ]
    },
    {
     "data": {
      "image/png": "[encoded data removed]",
      "text/plain": [
       "<Figure size 432x288 with 1 Axes>"
      ]
     },
     "metadata": {
      "needs_background": "light"
     },
     "output_type": "display_data"
    }
   ],
   "source": [
    "import warnings\n",
    "warnings.filterwarnings('ignore') # Deprecation Warnings\n",
    "from sklearn.linear_model import LogisticRegression\n",
    "\n",
    "kwargs = [\"newton-cg\", \"lbfgs\", \"liblinear\"]\n",
    "kwarg_label  = 'solver'\n",
    "\n",
    "lr_scores = fit_test_all(LogisticRegression, \n",
    "                          random_state = 2,\n",
    "                          model_kwargs_list=[{kwarg_label : kwarg} for kwarg in kwargs])\n",
    "\n",
    "# plot all results - bar chart since the 'solver' (Algorithm) used to optimization problem \n",
    "plt.bar(kwargs,lr_scores)    \n",
    "plt.title('LogisticRegression')\n",
    "plt.xlabel(kwarg_label)\n",
    "plt.ylabel('Ratio of correct labels')\n",
    "plt.ylim((0.9,0.94)) \n",
    "plt.show()"
   ]
  },
  {
   "cell_type": "markdown",
   "metadata": {},
   "source": [
    "There is little difference between the LogisticRegression models. None have performed as well as the KNeighborsClassifier, but all have scored above 9/10 which (based on the first 10 rows) is perhaps still similar to the level human. \n",
    "\n",
    "## RandomForestClassifier\n",
    "A Decision Tree does not seem like it will be the optimal model to classify images; we might expect that each pixel will be treated as a distinct choice within a decision tree. Pixels combine within an image and so have a structure that a decision tree might struggle to properly model. It's therefore likely that even a random forest - which is much less prone to overfitting than a pure decision tree - will struggle not to overfit on the training data and struggle to reproduce the same results on the unseen test data. \n",
    "\n",
    "Two of the parameters within the RandomForestClassifier model are very useful in preventing an overfit. These are 1. __min_samples_leaf__; _The minimum number of samples required to split an internal node,_ and 2. __max_depth__; _The maximum depth of the tree._\n",
    "\n",
    "We will produce scores in 2 dimensions, varying values of __min_samples_leaf__ and __max_depth__. "
   ]
  },
  {
   "cell_type": "code",
   "execution_count": 8,
   "metadata": {},
   "outputs": [
    {
     "name": "stdout",
     "output_type": "stream",
     "text": [
      "Result: 0.5147 from kwargs:{'min_samples_leaf': 1, 'max_depth': 1}\n",
      "Result: 0.5147 from kwargs:{'min_samples_leaf': 2, 'max_depth': 1}\n",
      "Result: 0.5147 from kwargs:{'min_samples_leaf': 3, 'max_depth': 1}\n",
      "Result: 0.5147 from kwargs:{'min_samples_leaf': 4, 'max_depth': 1}\n",
      "Result: 0.8937 from kwargs:{'min_samples_leaf': 1, 'max_depth': 11}\n",
      "Result: 0.8943 from kwargs:{'min_samples_leaf': 2, 'max_depth': 11}\n",
      "Result: 0.8954 from kwargs:{'min_samples_leaf': 3, 'max_depth': 11}\n",
      "Result: 0.8831 from kwargs:{'min_samples_leaf': 4, 'max_depth': 11}\n",
      "Result: 0.8931 from kwargs:{'min_samples_leaf': 1, 'max_depth': 21}\n",
      "Result: 0.8998 from kwargs:{'min_samples_leaf': 2, 'max_depth': 21}\n",
      "Result: 0.8920 from kwargs:{'min_samples_leaf': 3, 'max_depth': 21}\n",
      "Result: 0.8915 from kwargs:{'min_samples_leaf': 4, 'max_depth': 21}\n",
      "Result: 0.8931 from kwargs:{'min_samples_leaf': 1, 'max_depth': 31}\n",
      "Result: 0.8998 from kwargs:{'min_samples_leaf': 2, 'max_depth': 31}\n",
      "Result: 0.8920 from kwargs:{'min_samples_leaf': 3, 'max_depth': 31}\n",
      "Result: 0.8915 from kwargs:{'min_samples_leaf': 4, 'max_depth': 31}\n",
      "Best Result: 0.8998\n"
     ]
    },
    {
     "data": {
      "image/png": "[encoded data removed]",
      "text/plain": [
       "<Figure size 432x288 with 1 Axes>"
      ]
     },
     "metadata": {
      "needs_background": "light"
     },
     "output_type": "display_data"
    },
    {
     "data": {
      "text/html": [
       "<div>\n",
       "<style scoped>\n",
       "    .dataframe tbody tr th:only-of-type {\n",
       "        vertical-align: middle;\n",
       "    }\n",
       "\n",
       "    .dataframe tbody tr th {\n",
       "        vertical-align: top;\n",
       "    }\n",
       "\n",
       "    .dataframe thead th {\n",
       "        text-align: right;\n",
       "    }\n",
       "</style>\n",
       "<table border=\"1\" class=\"dataframe\">\n",
       "  <thead>\n",
       "    <tr style=\"text-align: right;\">\n",
       "      <th></th>\n",
       "      <th>min_samples_leaf</th>\n",
       "      <th>max_depth</th>\n",
       "      <th>rf_scores</th>\n",
       "    </tr>\n",
       "  </thead>\n",
       "  <tbody>\n",
       "    <tr>\n",
       "      <td>9</td>\n",
       "      <td>2</td>\n",
       "      <td>21</td>\n",
       "      <td>0.899826</td>\n",
       "    </tr>\n",
       "    <tr>\n",
       "      <td>13</td>\n",
       "      <td>2</td>\n",
       "      <td>31</td>\n",
       "      <td>0.899826</td>\n",
       "    </tr>\n",
       "  </tbody>\n",
       "</table>\n",
       "</div>"
      ],
      "text/plain": [
       "    min_samples_leaf  max_depth  rf_scores\n",
       "9                  2         21   0.899826\n",
       "13                 2         31   0.899826"
      ]
     },
     "execution_count": 8,
     "metadata": {},
     "output_type": "execute_result"
    }
   ],
   "source": [
    "from sklearn.ensemble import RandomForestClassifier\n",
    "\n",
    "# create all combinations of min_samples_leaf and max_depth\n",
    "kwargs = []\n",
    "max_depths = list(range(1,40,10))\n",
    "min_leaves = list(range(1,5,1))\n",
    "for max_depth in max_depths:\n",
    "    for min_samples_leaf in min_leaves:\n",
    "        kwargs.append({'min_samples_leaf':min_samples_leaf,'max_depth':max_depth})\n",
    "\n",
    "# fit the RandomForestClassifier \n",
    "rf_scores = fit_test_all(RandomForestClassifier,\n",
    "                         random_state = 5,\n",
    "                         model_kwargs_list=kwargs,\n",
    "                         silence=False)\n",
    "\n",
    "# use a bubble chart to plot the varying kwargs, bigger bubbles == a better score. \n",
    "kwargs_df = pd.DataFrame(kwargs)\n",
    "kwargs_df['rf_scores'] = rf_scores\n",
    "bubble_scale = 200 # arbitrary number to make the bubbles bigger\n",
    "\n",
    "plt.scatter(kwargs_df['min_samples_leaf'], \n",
    "            kwargs_df['max_depth'], \n",
    "            s=kwargs_df['rf_scores']*bubble_scale, \n",
    "            alpha=0.2, c='black')\n",
    "\n",
    "# find the best result\n",
    "best_fit = kwargs_df[kwargs_df['rf_scores'] == kwargs_df['rf_scores'].max()] \n",
    "# overlay the best fit(s)\n",
    "plt.scatter(best_fit['min_samples_leaf'], \n",
    "            best_fit['max_depth'], \n",
    "            s=best_fit['rf_scores']*bubble_scale, \n",
    "            alpha=1.0, c='red')\n",
    "\n",
    "plt.title('RandomForestClassifier')\n",
    "plt.xlabel('min_samples_leaf')\n",
    "plt.ylabel('max_depth')\n",
    "plt.show()\n",
    "best_fit"
   ]
  },
  {
   "cell_type": "markdown",
   "metadata": {},
   "source": [
    "The RandomForestClassifier hasn't performed as poorly as expected but it has still failed to get above 9/10 and probably isn't as good as a human at this task. \n",
    "\n",
    "To note, varying the random_state yielded differing optimal parameters for the forest. Once the tree becomes deep enough (_max_depth_) there is little improvement. Indeed, using the default parameters achieves a very similar score:"
   ]
  },
  {
   "cell_type": "code",
   "execution_count": 9,
   "metadata": {},
   "outputs": [
    {
     "data": {
      "text/plain": [
       "0.9065120019797079"
      ]
     },
     "execution_count": 9,
     "metadata": {},
     "output_type": "execute_result"
    }
   ],
   "source": [
    "RF = RandomForestClassifier()\n",
    "cross_validate(RF, n_splits=4)"
   ]
  },
  {
   "cell_type": "markdown",
   "metadata": {},
   "source": [
    "# Deep Neural Networks (MLPClassifier)\n",
    "Deep Neural Networks have the ability to learn hierarchical representations. Features within an image don't usually have an obvious linear or nonlinear relationship that can be learned with a model like linear or logistic regression. Whereas a Deep Neural Network model will find patterns within the data set and so _understand_ that pixels have relationships to one another.\n",
    "\n",
    "Deep Neural Networks use model _layers_ and find structure within images. For example, if used on images of faces, the first (hidden) layer might find the edges and specific features of faces. Then additional hidden layers might find higher level facial features like eyes and noses. Each successive layer uses weights from previous layers to try to learn more complex representations.\n",
    "\n",
    "We will test the MLPClassifier using varying numbers of layers (and neurons). We can expect that increasing the number of layers will improve the scores, but we can expect a limit. At some point using more and more hidden layers will increase the amount of overfitting that happens in the training stage and therefore reduce the predictive power of the overall model. \n",
    "\n",
    "Neurons are the basic building block of Neural Networks. A neuron is simply a set of inputs, a set of weights, and an activation function (such as those used in other ML models). The output of the neuron can then be sent as input to the neurons of another layer and the cycle is repeated. \n",
    "\n",
    "## A single layer of neurons\n",
    "We do not expect that using only one layer of neurons will produce the most optimal model/best results. However we can expect that increaing the number of neurons (at least up to a point) will yield better results."
   ]
  },
  {
   "cell_type": "code",
   "execution_count": 10,
   "metadata": {},
   "outputs": [
    {
     "name": "stdout",
     "output_type": "stream",
     "text": [
      "Result: 0.7791 from kwargs:{'hidden_layer_sizes': (8,)}\n",
      "Result: 0.9199 from kwargs:{'hidden_layer_sizes': (16,)}\n",
      "Result: 0.9238 from kwargs:{'hidden_layer_sizes': (32,)}\n",
      "Result: 0.9343 from kwargs:{'hidden_layer_sizes': (64,)}\n",
      "Result: 0.9444 from kwargs:{'hidden_layer_sizes': (128,)}\n",
      "Result: 0.9521 from kwargs:{'hidden_layer_sizes': (256,)}\n",
      "Result: 0.9555 from kwargs:{'hidden_layer_sizes': (512,)}\n",
      "Best Result: 0.9555\n"
     ]
    },
    {
     "data": {
      "image/png": "[encoded data removed]",
      "text/plain": [
       "<Figure size 432x288 with 1 Axes>"
      ]
     },
     "metadata": {
      "needs_background": "light"
     },
     "output_type": "display_data"
    }
   ],
   "source": [
    "from sklearn.neural_network import MLPClassifier\n",
    "\n",
    "# configure a series of single-layer neurons: [(n_neurons,)]\n",
    "nn_one_neurons = [(2**x,) for x in range(3,10)]\n",
    "\n",
    "kwargs = nn_one_neurons\n",
    "kwarg_label  = 'hidden_layer_sizes'\n",
    "\n",
    "ml_scores = fit_test_all(MLPClassifier,\n",
    "                         random_state = 1,\n",
    "                         model_kwargs_list=[{kwarg_label : kwarg} for kwarg in kwargs],\n",
    "                         silence=False\n",
    "                        )\n",
    "# plot all results\n",
    "plot_scores(kwargs,ml_scores,kwarg_label,'MLPClassifier - single neuron layer')"
   ]
  },
  {
   "cell_type": "markdown",
   "metadata": {},
   "source": [
    "A single layer of neurons has achieved results (almost) as as good as the KNeighborsClassifier (0.9677). There is a significant improvement in the score once the number of neurons is in the double digits. However the improvements are asymptotic such that there is very little improvement in the score when increasing from 256 to 512 neurons. Therefore it is unlikely that the MLPClassifier can beat the KNeighborsClassifier by further increasing the number of neurons.\n",
    "\n",
    "## Two layers of neurons"
   ]
  },
  {
   "cell_type": "code",
   "execution_count": 11,
   "metadata": {},
   "outputs": [
    {
     "name": "stdout",
     "output_type": "stream",
     "text": [
      "Result: 0.9421 from kwargs:{'hidden_layer_sizes': (64, 64)}\n",
      "Result: 0.9516 from kwargs:{'hidden_layer_sizes': (128, 128)}\n",
      "Result: 0.9560 from kwargs:{'hidden_layer_sizes': (256, 256)}\n",
      "Result: 0.9583 from kwargs:{'hidden_layer_sizes': (512, 512)}\n",
      "Best Result: 0.9583\n"
     ]
    },
    {
     "data": {
      "image/png": "[encoded data removed]",
      "text/plain": [
       "<Figure size 432x288 with 1 Axes>"
      ]
     },
     "metadata": {
      "needs_background": "light"
     },
     "output_type": "display_data"
    }
   ],
   "source": [
    "# start from (64,64)\n",
    "nn_two_neurons = [(2**x,2**x) for x in range(6,10)]\n",
    "\n",
    "kwargs = nn_two_neurons\n",
    "kwarg_label  = 'hidden_layer_sizes'\n",
    "\n",
    "ml_scores = fit_test_all(MLPClassifier,\n",
    "                         random_state = 1,\n",
    "                         model_kwargs_list=[{kwarg_label : kwarg} for kwarg in kwargs],\n",
    "                         silence=False\n",
    "                        )\n",
    "# plot all results\n",
    "plot_scores(kwargs,ml_scores,kwarg_label,'MLPClassifier - two neuron layers')"
   ]
  },
  {
   "cell_type": "markdown",
   "metadata": {},
   "source": [
    "## Three layers of neurons"
   ]
  },
  {
   "cell_type": "code",
   "execution_count": 12,
   "metadata": {},
   "outputs": [
    {
     "name": "stdout",
     "output_type": "stream",
     "text": [
      "Result: 0.9505 from kwargs:{'hidden_layer_sizes': (64, 64, 64)}\n",
      "Result: 0.9510 from kwargs:{'hidden_layer_sizes': (128, 128, 128)}\n",
      "Result: 0.9471 from kwargs:{'hidden_layer_sizes': (256, 256, 256)}\n",
      "Result: 0.9644 from kwargs:{'hidden_layer_sizes': (512, 512, 512)}\n",
      "Best Result: 0.9644\n"
     ]
    },
    {
     "data": {
      "image/png": "[encoded data removed]",
      "text/plain": [
       "<Figure size 432x288 with 1 Axes>"
      ]
     },
     "metadata": {
      "needs_background": "light"
     },
     "output_type": "display_data"
    }
   ],
   "source": [
    "# start from (64,64,64)\n",
    "nn_three_neurons = [(2**x,2**x,2**x) for x in range(6,10)]\n",
    "\n",
    "kwargs = nn_three_neurons\n",
    "kwarg_label  = 'hidden_layer_sizes'\n",
    "\n",
    "ml_scores = fit_test_all(MLPClassifier,\n",
    "                         random_state = 1,\n",
    "                         model_kwargs_list=[{kwarg_label : kwarg} for kwarg in kwargs],\n",
    "                         silence=False\n",
    "                        )\n",
    "# plot all results\n",
    "plot_scores(kwargs,ml_scores,kwarg_label,'MLPClassifier - three neuron layers')"
   ]
  },
  {
   "cell_type": "markdown",
   "metadata": {},
   "source": [
    "Increasing the number of layers to three has improved the best score to of the MLPClassifier such that it is roughly equivalent to the KNeighborsClassifier. However the previous asymptotic improvement seen when increasing the number of neurons has broken down. This suggests that the MLPClassifier is overfitting the training data and the limit to this model has been reached. Increasing the number layers further should not be expected to improve the score. \n",
    "\n",
    "## Four layers of neurons"
   ]
  },
  {
   "cell_type": "code",
   "execution_count": 13,
   "metadata": {},
   "outputs": [
    {
     "name": "stdout",
     "output_type": "stream",
     "text": [
      "Result: 0.9449 from kwargs:{'hidden_layer_sizes': (64, 64, 64, 64)}\n",
      "Result: 0.9521 from kwargs:{'hidden_layer_sizes': (128, 128, 128, 128)}\n",
      "Result: 0.9544 from kwargs:{'hidden_layer_sizes': (256, 256, 256, 256)}\n",
      "Result: 0.9577 from kwargs:{'hidden_layer_sizes': (512, 512, 512, 512)}\n",
      "Best Result: 0.9577\n"
     ]
    },
    {
     "data": {
      "image/png": "[encoded data removed]",
      "text/plain": [
       "<Figure size 432x288 with 1 Axes>"
      ]
     },
     "metadata": {
      "needs_background": "light"
     },
     "output_type": "display_data"
    }
   ],
   "source": [
    "# start from (64,64,64,64)\n",
    "nn_four_neurons = [(2**x,2**x,2**x,2**x) for x in range(6,10)]\n",
    "\n",
    "kwargs = nn_four_neurons\n",
    "kwarg_label  = 'hidden_layer_sizes'\n",
    "\n",
    "ml_scores = fit_test_all(MLPClassifier,\n",
    "                         random_state = 1,\n",
    "                         model_kwargs_list=[{kwarg_label : kwarg} for kwarg in kwargs],\n",
    "                         silence=False\n",
    "                        )\n",
    "# plot all results\n",
    "plot_scores(kwargs,ml_scores,kwarg_label,'MLPClassifier - four neuron layers')"
   ]
  },
  {
   "cell_type": "markdown",
   "metadata": {},
   "source": [
    "# Summary\n",
    "Both the KNeighborsClassifier and MLPClassifier models achieve comparable results, each scoring over 95% accuracy (which is likely as good as or better than this human). \n",
    "\n",
    "The KNeighborsClassifier model actually produces marginally better results than the MLPClassifier. It's also very noticable that the KNeighborsClassifier model is much faster than the more complex MLPClassifier models. The question then is, why use a Neural Network over the (much simpler) KNeighborsClassifier model?\n",
    "\n",
    "The reason is that the KNeighborsClassifier is an algorithm, not a model. Essentially it predicts results by comparing the input features to all known combinations that it has been trained on. For this reason it will not scale to larger data sets as well as the MLPClassifier. Furthermore, the bulk of the processing within the MLPClassifier model occurs when the model is trained. We can therefore expect that the MLPClassifier will produce predictions much faster than the KNeighborsClassifier. \n",
    "\n",
    "As a final test, we generate a fitted model each for KNeighborsClassifier and MLPClassifier and then time how long it takes to perform 100 sets of predictions. "
   ]
  },
  {
   "cell_type": "code",
   "execution_count": 14,
   "metadata": {},
   "outputs": [],
   "source": [
    "# create a fitted model each for KNeighborsClassifier and MLPClassifier \n",
    "# there is no reason to split the data into train/test as overfitting is not a concern\n",
    "knn = train(KNeighborsClassifier(n_neighbors=1), data, labels)\n",
    "nn  = train(MLPClassifier(hidden_layer_sizes=(256, 256)), data, labels)"
   ]
  },
  {
   "cell_type": "code",
   "execution_count": 15,
   "metadata": {},
   "outputs": [],
   "source": [
    "def time_ml_model(fitted_model,no_tests=100):\n",
    "    '''Time how long it takes to predict the results '''\n",
    "    import time\n",
    "    start = time.time()\n",
    "    for _ in range(no_tests):\n",
    "        test(fitted_model, data, labels) \n",
    "    \n",
    "    return time.time() - start"
   ]
  },
  {
   "cell_type": "code",
   "execution_count": 16,
   "metadata": {},
   "outputs": [
    {
     "name": "stdout",
     "output_type": "stream",
     "text": [
      "knn_seconds:  7.23\n",
      "nn_seconds:   0.655\n",
      "Speed Factor: 1.1e+01\n"
     ]
    }
   ],
   "source": [
    "knn_time = time_ml_model(knn)\n",
    "nn_time  = time_ml_model(nn)\n",
    "\n",
    "print('knn_seconds:  {:.3}\\nnn_seconds:   {:.3}\\nSpeed Factor: {:.2}'.format(knn_time,nn_time,knn_time/nn_time))"
   ]
  },
  {
   "cell_type": "markdown",
   "metadata": {},
   "source": [
    "The MLPClassifier is almost an order of magnitude quicker than the KNeighborsClassifier. This is on a data set of less than 2,000 rows and so it should be expected that this overperformance will only increase as the data set grows larger. In a practical use case a model could be trained once and then used to predict 100s of 1000s of results. For this reason - despite their comparable/excellent results - there is really no contest between the two models. "
   ]
  }
 ],
 "metadata": {
  "kernelspec": {
   "display_name": "Python 3",
   "language": "python",
   "name": "python3"
  },
  "language_info": {
   "codemirror_mode": {
    "name": "ipython",
    "version": 3
   },
   "file_extension": ".py",
   "mimetype": "text/x-python",
   "name": "python",
   "nbconvert_exporter": "python",
   "pygments_lexer": "ipython3",
   "version": "3.7.4"
  }
 },
 "nbformat": 4,
 "nbformat_minor": 2
}
